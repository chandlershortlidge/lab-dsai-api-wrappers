{
 "cells": [
  {
   "cell_type": "markdown",
   "id": "bd0a3905-b346-43d5-9791-d3869299eb9d",
   "metadata": {},
   "source": [
    "# API wrappers"
   ]
  },
  {
   "cell_type": "markdown",
   "id": "327b4075-5374-4ecf-b8c5-c106d20d80e1",
   "metadata": {},
   "source": [
    "The OpenWeatherMap offers REST endpoints for querying current weather, forecasts, historical data, etc. However, accessing this data directly via the REST API requires handling multiple API calls, query parameters, and response parsing. The pyowm library abstracts these complexities and provides useful built-in functionalities."
   ]
  },
  {
   "cell_type": "markdown",
   "id": "1d731d49-fd79-44c8-8f72-68194c99fec0",
   "metadata": {},
   "source": [
    "After signing in to OpenWeatherMap retrieve your api key at https://home.openweathermap.org/api_keys\n",
    "\n",
    "You will also need to install the pyowm package: pip install pyowm "
   ]
  },
  {
   "cell_type": "code",
   "execution_count": 3,
   "id": "63b327b1-338b-4b14-a5b5-1bd8741da64b",
   "metadata": {},
   "outputs": [],
   "source": [
    "import requests\n",
    "import pyowm\n",
    "import json\n",
    "\n",
    "api_key = '4adb974f265efc471682a465e8ca91b7'"
   ]
  },
  {
   "cell_type": "markdown",
   "id": "f73d3029-c6a6-43b9-81a9-0e81c13bdf09",
   "metadata": {},
   "source": [
    "## use case 1: managing API keys\n",
    "\n",
    "In a raw rest API call you always have to manage credentials in each individual call. Wrappers usually store and manage the authentication for you"
   ]
  },
  {
   "cell_type": "code",
   "execution_count": 5,
   "id": "afbcdf71-845e-4aae-b8cc-8963745f7d4b",
   "metadata": {},
   "outputs": [
    {
     "data": {
      "text/plain": [
       "{'coord': {'lon': -0.1257, 'lat': 51.5085},\n",
       " 'weather': [{'id': 803,\n",
       "   'main': 'Clouds',\n",
       "   'description': 'broken clouds',\n",
       "   'icon': '04d'}],\n",
       " 'base': 'stations',\n",
       " 'main': {'temp': 291.85,\n",
       "  'feels_like': 292.1,\n",
       "  'temp_min': 290.88,\n",
       "  'temp_max': 292.21,\n",
       "  'pressure': 995,\n",
       "  'humidity': 89,\n",
       "  'sea_level': 995,\n",
       "  'grnd_level': 991},\n",
       " 'visibility': 10000,\n",
       " 'wind': {'speed': 7.2, 'deg': 220},\n",
       " 'clouds': {'all': 75},\n",
       " 'dt': 1756890252,\n",
       " 'sys': {'type': 2,\n",
       "  'id': 2075535,\n",
       "  'country': 'GB',\n",
       "  'sunrise': 1756876593,\n",
       "  'sunset': 1756925015},\n",
       " 'timezone': 3600,\n",
       " 'id': 2643743,\n",
       " 'name': 'London',\n",
       " 'cod': 200}"
      ]
     },
     "execution_count": 5,
     "metadata": {},
     "output_type": "execute_result"
    }
   ],
   "source": [
    "#You can get current weather data by making a GET request to an endpoint like:\n",
    "\n",
    "params = {\n",
    "    'appid' : api_key\n",
    "}\n",
    "\n",
    "response = requests.get('https://api.openweathermap.org/data/2.5/weather?q=London', params = params)\n",
    "\n",
    "json.loads(response.text)\n",
    "\n",
    "#but for every call you make using GET from now on you do need to add the parameters, since the raw API does not manage authentication for you"
   ]
  },
  {
   "cell_type": "markdown",
   "id": "b82c585b-fd83-4f59-9d46-14225f3e5037",
   "metadata": {},
   "source": [
    "Most wrappers (pyowm included) include some way of initializing a session with the authentication key that you then don't need to type again.\n",
    "\n",
    "Initialize pyowm with the default configuration. Thenopen the weather manager\n",
    "\n",
    "Check out a snippet here: https://pyowm.readthedocs.io/en/latest/v3/code-recipes.html#weather_data"
   ]
  },
  {
   "cell_type": "code",
   "execution_count": null,
   "id": "f376d466-5a69-4a47-b35d-1870cbef61ff",
   "metadata": {},
   "outputs": [],
   "source": [
    "from pyowm.owm import OWM\n",
    "owm = OWM('4adb974f265efc471682a465e8ca91b7')\n",
    "weather_mgr = owm.weather_manager()"
   ]
  },
  {
   "cell_type": "markdown",
   "id": "840060e4-d3de-4b96-bb03-5bce02003f1d",
   "metadata": {},
   "source": [
    "## use case 2: Simplified calls\n",
    "\n",
    "With the raw REST API, you'd have to build a URL manually, send the request, and parse the JSON response to get the current weather."
   ]
  },
  {
   "cell_type": "code",
   "execution_count": 7,
   "id": "a2aa8395-0bed-4098-8881-0ffe93541b1f",
   "metadata": {},
   "outputs": [
    {
     "name": "stdout",
     "output_type": "stream",
     "text": [
      "Temperature: 291.85°C, Humidity: 89%, Wind Speed: 7.2 m/s\n"
     ]
    }
   ],
   "source": [
    "city = 'London'\n",
    "url = f'http://api.openweathermap.org/data/2.5/weather?q={city}'\n",
    "\n",
    "response = requests.get(url,params= params)\n",
    "data = response.json()\n",
    "temperature = data['main']['temp']\n",
    "humidity = data['main']['humidity']\n",
    "wind_speed = data['wind']['speed']\n",
    "\n",
    "print(f\"Temperature: {temperature}°C, Humidity: {humidity}%, Wind Speed: {wind_speed} m/s\")"
   ]
  },
  {
   "cell_type": "markdown",
   "id": "df5bc6df-bfb2-416d-8d06-3961d3a12234",
   "metadata": {},
   "source": [
    "Get the equivalent call as above for the city of London using the pyowm package"
   ]
  },
  {
   "cell_type": "code",
   "execution_count": 15,
   "id": "d1986770-4628-480b-b587-9ff5c42d301c",
   "metadata": {},
   "outputs": [
    {
     "name": "stdout",
     "output_type": "stream",
     "text": [
      "Temperature: 291.85°C, Humidity: 89%, Wind Speed: 7.2 m/s\n"
     ]
    }
   ],
   "source": [
    "from pyowm.owm import OWM\n",
    "owm = OWM('4adb974f265efc471682a465e8ca91b7')\n",
    "mgr = owm.weather_manager()\n",
    "weather = mgr.weather_at_place('London,GB').weather\n",
    "temp_dict_kelvin = weather.temperature()   # a dict in Kelvin units (default when no temperature units provided)\n",
    "temp_dict_kelvin['temp_min']\n",
    "temp_dict_kelvin['temp_max']\n",
    "temp_dict_fahrenheit = weather.temperature('fahrenheit')  # a dict in Fahrenheit units\n",
    "temp_dict_celsius = weather.temperature('celsius')  # guess?\n",
    "\n",
    "print(f\"Temperature: {temperature}°C, Humidity: {humidity}%, Wind Speed: {wind_speed} m/s\")"
   ]
  },
  {
   "cell_type": "markdown",
   "id": "7e7b93b2-c383-4e49-8fce-a0923ac59031",
   "metadata": {},
   "source": [
    "## use case 3: Combining and chaining calls\n",
    "\n",
    "Wrappers often offer methods that make multiple calls to batch requests that make sense to batch. And often they offer methods that make sequences of calls that each returns information necessary to make the next call."
   ]
  },
  {
   "cell_type": "markdown",
   "id": "8f4a6b6c-f397-48ce-a3ef-f88e1fb95eb9",
   "metadata": {},
   "source": [
    "For example, to get a weather forecast for a specific city using the raw API you need to first geocode the city to get its latitude and longitude:"
   ]
  },
  {
   "cell_type": "code",
   "execution_count": 12,
   "id": "d182cf31-80f8-4b61-8de0-897d2d6479d7",
   "metadata": {},
   "outputs": [],
   "source": [
    "city = 'New York'\n",
    "geocode_url = f'http://api.openweathermap.org/data/2.5/weather?q={city}'\n",
    "geocode_response = requests.get(geocode_url,params=params).json()\n",
    "\n",
    "lat = geocode_response['coord']['lat']\n",
    "lon = geocode_response['coord']['lon']"
   ]
  },
  {
   "cell_type": "markdown",
   "id": "547c5deb-1070-4b72-b035-32ea5a615eda",
   "metadata": {},
   "source": [
    "Then, request the weather forecast for that latitude/longitude:"
   ]
  },
  {
   "cell_type": "code",
   "execution_count": 11,
   "id": "03737eff-cbc6-412f-b6a1-03e28b39b1e4",
   "metadata": {},
   "outputs": [
    {
     "name": "stdout",
     "output_type": "stream",
     "text": [
      "Time: 2025-09-03 12:00:00, Temp: 290.44°C\n",
      "Time: 2025-09-03 15:00:00, Temp: 294.19°C\n",
      "Time: 2025-09-03 18:00:00, Temp: 298.25°C\n",
      "Time: 2025-09-03 21:00:00, Temp: 296.54°C\n",
      "Time: 2025-09-04 00:00:00, Temp: 293.65°C\n",
      "Time: 2025-09-04 03:00:00, Temp: 294.28°C\n",
      "Time: 2025-09-04 06:00:00, Temp: 292.95°C\n",
      "Time: 2025-09-04 09:00:00, Temp: 292.18°C\n",
      "Time: 2025-09-04 12:00:00, Temp: 293.01°C\n",
      "Time: 2025-09-04 15:00:00, Temp: 296.65°C\n",
      "Time: 2025-09-04 18:00:00, Temp: 298.15°C\n",
      "Time: 2025-09-04 21:00:00, Temp: 296.54°C\n",
      "Time: 2025-09-05 00:00:00, Temp: 295.86°C\n",
      "Time: 2025-09-05 03:00:00, Temp: 295.51°C\n",
      "Time: 2025-09-05 06:00:00, Temp: 293.1°C\n",
      "Time: 2025-09-05 09:00:00, Temp: 293.38°C\n",
      "Time: 2025-09-05 12:00:00, Temp: 293.68°C\n",
      "Time: 2025-09-05 15:00:00, Temp: 297.37°C\n",
      "Time: 2025-09-05 18:00:00, Temp: 300.39°C\n",
      "Time: 2025-09-05 21:00:00, Temp: 301.06°C\n",
      "Time: 2025-09-06 00:00:00, Temp: 300.05°C\n",
      "Time: 2025-09-06 03:00:00, Temp: 297.8°C\n",
      "Time: 2025-09-06 06:00:00, Temp: 297.15°C\n",
      "Time: 2025-09-06 09:00:00, Temp: 296.33°C\n",
      "Time: 2025-09-06 12:00:00, Temp: 296.55°C\n",
      "Time: 2025-09-06 15:00:00, Temp: 300.4°C\n",
      "Time: 2025-09-06 18:00:00, Temp: 302.43°C\n",
      "Time: 2025-09-06 21:00:00, Temp: 298.31°C\n",
      "Time: 2025-09-07 00:00:00, Temp: 295.47°C\n",
      "Time: 2025-09-07 03:00:00, Temp: 291.97°C\n",
      "Time: 2025-09-07 06:00:00, Temp: 291.67°C\n",
      "Time: 2025-09-07 09:00:00, Temp: 291.22°C\n",
      "Time: 2025-09-07 12:00:00, Temp: 291.51°C\n",
      "Time: 2025-09-07 15:00:00, Temp: 292.47°C\n",
      "Time: 2025-09-07 18:00:00, Temp: 292.31°C\n",
      "Time: 2025-09-07 21:00:00, Temp: 293.04°C\n",
      "Time: 2025-09-08 00:00:00, Temp: 293.01°C\n",
      "Time: 2025-09-08 03:00:00, Temp: 292.44°C\n",
      "Time: 2025-09-08 06:00:00, Temp: 291.8°C\n",
      "Time: 2025-09-08 09:00:00, Temp: 290.85°C\n"
     ]
    }
   ],
   "source": [
    "forecast_url = f'http://api.openweathermap.org/data/2.5/forecast?lat={lat}&lon={lon}'\n",
    "forecast_response = requests.get(forecast_url, params=params).json()\n",
    "\n",
    "for entry in forecast_response['list']:\n",
    "    print(f\"Time: {entry['dt_txt']}, Temp: {entry['main']['temp']}°C\")"
   ]
  },
  {
   "cell_type": "markdown",
   "id": "f75ab558-7500-40fa-a4aa-93a18053059a",
   "metadata": {},
   "source": [
    "Two calls: one for geocoding, one for forecasts.\n",
    "But with pyowm, because this is a common operation, there is a method that handles the geocoding internally and then fetches the weather forecast in one step.\n",
    "\n",
    "Get the above forecast in a single call using pyowm.\n",
    "\n",
    "Hint: search for \"forecast_at_place\" in the code recipies of the documentation"
   ]
  },
  {
   "cell_type": "code",
   "execution_count": 18,
   "id": "11e3c1a8-260d-467c-8f47-793fd62a239b",
   "metadata": {},
   "outputs": [
    {
     "ename": "UnauthorizedError",
     "evalue": "Invalid API Key provided",
     "output_type": "error",
     "traceback": [
      "\u001b[31m---------------------------------------------------------------------------\u001b[39m",
      "\u001b[31mUnauthorizedError\u001b[39m                         Traceback (most recent call last)",
      "\u001b[36mCell\u001b[39m\u001b[36m \u001b[39m\u001b[32mIn[18]\u001b[39m\u001b[32m, line 4\u001b[39m\n\u001b[32m      2\u001b[39m owm = OWM(\u001b[33m'\u001b[39m\u001b[33m3abf032d774491da5a90ded130c74b87\u001b[39m\u001b[33m'\u001b[39m)\n\u001b[32m      3\u001b[39m mgr = owm.weather_manager()\n\u001b[32m----> \u001b[39m\u001b[32m4\u001b[39m daily_forecast = \u001b[43mmgr\u001b[49m\u001b[43m.\u001b[49m\u001b[43mforecast_at_place\u001b[49m\u001b[43m(\u001b[49m\u001b[33;43m'\u001b[39;49m\u001b[33;43mBerlin,DE\u001b[39;49m\u001b[33;43m'\u001b[39;49m\u001b[43m,\u001b[49m\u001b[43m \u001b[49m\u001b[33;43m'\u001b[39;49m\u001b[33;43mdaily\u001b[39;49m\u001b[33;43m'\u001b[39;49m\u001b[43m)\u001b[49m.forecast\n\u001b[32m      5\u001b[39m three_h_forecast = mgr.forecast_at_place(\u001b[33m'\u001b[39m\u001b[33mBerlin,DE\u001b[39m\u001b[33m'\u001b[39m, \u001b[33m'\u001b[39m\u001b[33m3h\u001b[39m\u001b[33m'\u001b[39m).forecast\n",
      "\u001b[36mFile \u001b[39m\u001b[32m~/Desktop/Ironhack/week_14/.venv/lib/python3.12/site-packages/pyowm/weatherapi30/weather_manager.py:292\u001b[39m, in \u001b[36mWeatherManager.forecast_at_place\u001b[39m\u001b[34m(self, name, interval, limit)\u001b[39m\n\u001b[32m    290\u001b[39m \u001b[38;5;28;01melse\u001b[39;00m:\n\u001b[32m    291\u001b[39m     \u001b[38;5;28;01mraise\u001b[39;00m \u001b[38;5;167;01mValueError\u001b[39;00m(\u001b[33m\"\u001b[39m\u001b[33mUnsupported time interval for forecast\u001b[39m\u001b[33m\"\u001b[39m)\n\u001b[32m--> \u001b[39m\u001b[32m292\u001b[39m _, json_data = \u001b[38;5;28;43mself\u001b[39;49m\u001b[43m.\u001b[49m\u001b[43mhttp_client\u001b[49m\u001b[43m.\u001b[49m\u001b[43mget_json\u001b[49m\u001b[43m(\u001b[49m\u001b[43muri\u001b[49m\u001b[43m,\u001b[49m\u001b[43m \u001b[49m\u001b[43mparams\u001b[49m\u001b[43m=\u001b[49m\u001b[43mparams\u001b[49m\u001b[43m)\u001b[49m\n\u001b[32m    293\u001b[39m fc = forecast.Forecast.from_dict(json_data)\n\u001b[32m    294\u001b[39m \u001b[38;5;28;01mif\u001b[39;00m fc \u001b[38;5;129;01mis\u001b[39;00m \u001b[38;5;129;01mnot\u001b[39;00m \u001b[38;5;28;01mNone\u001b[39;00m:\n",
      "\u001b[36mFile \u001b[39m\u001b[32m~/Desktop/Ironhack/week_14/.venv/lib/python3.12/site-packages/pyowm/commons/http_client.py:158\u001b[39m, in \u001b[36mHttpClient.get_json\u001b[39m\u001b[34m(self, path, params, headers)\u001b[39m\n\u001b[32m    156\u001b[39m \u001b[38;5;28;01mexcept\u001b[39;00m requests.exceptions.Timeout:\n\u001b[32m    157\u001b[39m     \u001b[38;5;28;01mraise\u001b[39;00m exceptions.TimeoutError(\u001b[33m'\u001b[39m\u001b[33mAPI call timed out\u001b[39m\u001b[33m'\u001b[39m)\n\u001b[32m--> \u001b[39m\u001b[32m158\u001b[39m \u001b[43mHttpClient\u001b[49m\u001b[43m.\u001b[49m\u001b[43mcheck_status_code\u001b[49m\u001b[43m(\u001b[49m\u001b[43mresp\u001b[49m\u001b[43m.\u001b[49m\u001b[43mstatus_code\u001b[49m\u001b[43m,\u001b[49m\u001b[43m \u001b[49m\u001b[43mresp\u001b[49m\u001b[43m.\u001b[49m\u001b[43mtext\u001b[49m\u001b[43m)\u001b[49m\n\u001b[32m    159\u001b[39m \u001b[38;5;28;01mtry\u001b[39;00m:\n\u001b[32m    160\u001b[39m     \u001b[38;5;28;01mreturn\u001b[39;00m resp.status_code, resp.json()\n",
      "\u001b[36mFile \u001b[39m\u001b[32m~/Desktop/Ironhack/week_14/.venv/lib/python3.12/site-packages/pyowm/commons/http_client.py:313\u001b[39m, in \u001b[36mHttpClient.check_status_code\u001b[39m\u001b[34m(cls, status_code, payload)\u001b[39m\n\u001b[32m    311\u001b[39m     \u001b[38;5;28;01mraise\u001b[39;00m exceptions.APIRequestError(payload)\n\u001b[32m    312\u001b[39m \u001b[38;5;28;01melif\u001b[39;00m status_code == \u001b[32m401\u001b[39m:\n\u001b[32m--> \u001b[39m\u001b[32m313\u001b[39m     \u001b[38;5;28;01mraise\u001b[39;00m exceptions.UnauthorizedError(\u001b[33m'\u001b[39m\u001b[33mInvalid API Key provided\u001b[39m\u001b[33m'\u001b[39m)\n\u001b[32m    314\u001b[39m \u001b[38;5;28;01melif\u001b[39;00m status_code == \u001b[32m404\u001b[39m:\n\u001b[32m    315\u001b[39m     \u001b[38;5;28;01mraise\u001b[39;00m exceptions.NotFoundError(\u001b[33m'\u001b[39m\u001b[33mUnable to find the resource\u001b[39m\u001b[33m'\u001b[39m)\n",
      "\u001b[31mUnauthorizedError\u001b[39m: Invalid API Key provided"
     ]
    }
   ],
   "source": [
    "from pyowm.owm import OWM\n",
    "owm = OWM('3abf032d774491da5a90ded130c74b87')\n",
    "mgr = owm.weather_manager()\n",
    "daily_forecast = mgr.forecast_at_place('Berlin,DE', 'daily').forecast\n",
    "three_h_forecast = mgr.forecast_at_place('Berlin,DE', '3h').forecast"
   ]
  },
  {
   "cell_type": "markdown",
   "id": "7ab2b0cc-0d16-4da5-be3e-b8466faecca3",
   "metadata": {},
   "source": [
    "## use case 4: Convenience methods\n",
    "\n",
    "Wrappers often offer built-in methods to handle common kinds of tasks related to the APIs, reducing the need for manual calculations.\n",
    "\n",
    "for example converting units (e.g., temperature from Celsius to Fahrenheit) or working with more complex data requires manual conversion when using the raw API."
   ]
  },
  {
   "cell_type": "code",
   "execution_count": null,
   "id": "c8e68dad-a503-49cf-9c1e-72e9ed1fab3d",
   "metadata": {},
   "outputs": [],
   "source": [
    "city = 'London'\n",
    "url = f'http://api.openweathermap.org/data/2.5/weather?q={city}&appid={api_key}'\n",
    "\n",
    "response = requests.get(url)\n",
    "data = response.json()\n",
    "temperature_celsius = data['main']['temp']\n",
    "temperature_fahrenheit = (temperature_celsius * 9/5) + 32\n",
    "\n",
    "print(f\"Temperature in Celsius: {temperature_celsius}°C, Fahrenheit: {temperature_fahrenheit}°F\")"
   ]
  },
  {
   "cell_type": "markdown",
   "id": "9b05658c-e9cb-491d-8554-ab4d6dd56e1d",
   "metadata": {},
   "source": [
    "But the pyowm wrapper offers built-in methods to handle these kinds of tasks, reducing the need for manual calculations.\n",
    "Get the temperature both in Celcius and Farenheit using pyowm. Navigate the code recipes to figure out the inbuilt methods for this."
   ]
  },
  {
   "cell_type": "code",
   "execution_count": null,
   "id": "4695bb83-bc35-4c1b-b390-5ea2027984ef",
   "metadata": {},
   "outputs": [],
   "source": [
    "#your code here"
   ]
  }
 ],
 "metadata": {
  "kernelspec": {
   "display_name": "week_14",
   "language": "python",
   "name": "python3"
  },
  "language_info": {
   "codemirror_mode": {
    "name": "ipython",
    "version": 3
   },
   "file_extension": ".py",
   "mimetype": "text/x-python",
   "name": "python",
   "nbconvert_exporter": "python",
   "pygments_lexer": "ipython3",
   "version": "3.12.11"
  }
 },
 "nbformat": 4,
 "nbformat_minor": 5
}
